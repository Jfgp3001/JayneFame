{
  "nbformat": 4,
  "nbformat_minor": 0,
  "metadata": {
    "colab": {
      "name": "python20211013.ipynb",
      "provenance": [],
      "include_colab_link": true
    },
    "kernelspec": {
      "name": "python3",
      "display_name": "Python 3"
    },
    "language_info": {
      "name": "python"
    }
  },
  "cells": [
    {
      "cell_type": "markdown",
      "metadata": {
        "id": "view-in-github",
        "colab_type": "text"
      },
      "source": [
        "<a href=\"https://colab.research.google.com/github/Jfgp3001/JayneFame/blob/main/python20211013.ipynb\" target=\"_parent\"><img src=\"https://colab.research.google.com/assets/colab-badge.svg\" alt=\"Open In Colab\"/></a>"
      ]
    },
    {
      "cell_type": "markdown",
      "metadata": {
        "id": "wEv4V-7_J69t"
      },
      "source": [
        "# Python Conditions and If statements\n",
        " 20211013\n",
        "\n",
        " https://www.w3schools.com/python/python_conditions.asp"
      ]
    },
    {
      "cell_type": "markdown",
      "metadata": {
        "id": "ygHX4B5kJyUO"
      },
      "source": [
        "a = b\n",
        "\n",
        "= ==> assignment not equal"
      ]
    },
    {
      "cell_type": "code",
      "metadata": {
        "id": "b6Rx7y6MbMIo",
        "outputId": "9f65b190-44e3-4f18-c28c-7c945bd6aa7a",
        "colab": {
          "base_uri": "https://localhost:8080/"
        }
      },
      "source": [
        "a = 45\n",
        "b = 400\n",
        "if b >a:\n",
        "  print(\"b is greater than a\")"
      ],
      "execution_count": 1,
      "outputs": [
        {
          "output_type": "stream",
          "name": "stdout",
          "text": [
            "b is greater than a\n"
          ]
        }
      ]
    },
    {
      "cell_type": "code",
      "metadata": {
        "id": "V4qr-44XbbF8"
      },
      "source": [
        "a = 56\n",
        "b = 34\n",
        "if b > a:\n",
        "  print(\"b is greater than a\")"
      ],
      "execution_count": 4,
      "outputs": []
    },
    {
      "cell_type": "code",
      "metadata": {
        "colab": {
          "base_uri": "https://localhost:8080/"
        },
        "id": "m7J0wulfKSSN",
        "outputId": "cbce0d5a-5cfa-45b3-e98c-deb892905dcc"
      },
      "source": [
        "a = 33\n",
        "b = 200\n",
        "if b > a:\n",
        "  print(\"b is greater than a\")"
      ],
      "execution_count": null,
      "outputs": [
        {
          "output_type": "stream",
          "name": "stdout",
          "text": [
            "b is greater than a\n"
          ]
        }
      ]
    },
    {
      "cell_type": "code",
      "metadata": {
        "id": "5VBLkcpjc9oA",
        "outputId": "edf34401-0163-4f2a-b6f4-bf78e458bae8",
        "colab": {
          "base_uri": "https://localhost:8080/"
        }
      },
      "source": [
        "a = 120\n",
        "b = 120\n",
        "if b > a:\n",
        "  print(\"b greater than a\")\n",
        "elif a == b:\n",
        "  print(\"a and b are equal\")\n"
      ],
      "execution_count": 9,
      "outputs": [
        {
          "output_type": "stream",
          "name": "stdout",
          "text": [
            "a and b are equal\n"
          ]
        }
      ]
    },
    {
      "cell_type": "code",
      "metadata": {
        "id": "FDG3WXGXdbjd",
        "outputId": "84b013d8-85f1-440f-8943-688fa3b902eb",
        "colab": {
          "base_uri": "https://localhost:8080/"
        }
      },
      "source": [
        "a = 320\n",
        "b = 50\n",
        "if b > a:\n",
        "  print(\"b is greater than a\")\n",
        "elif a == b:\n",
        "  print(\"a and b are equal\")\n",
        "else:\n",
        "  print(\"a is greater than b\")\n"
      ],
      "execution_count": 10,
      "outputs": [
        {
          "output_type": "stream",
          "name": "stdout",
          "text": [
            "a is greater than b\n"
          ]
        }
      ]
    },
    {
      "cell_type": "code",
      "metadata": {
        "id": "yUvy56u2eIdq",
        "outputId": "c002f2d0-04f1-4d5a-d047-0a13faf7bf77",
        "colab": {
          "base_uri": "https://localhost:8080/"
        }
      },
      "source": [
        "a = 500\n",
        "b = 50\n",
        "if b > a:\n",
        "  print(\"b is greater than a\")\n",
        "else:\n",
        "  print(\"b is not greater than a\")"
      ],
      "execution_count": 11,
      "outputs": [
        {
          "output_type": "stream",
          "name": "stdout",
          "text": [
            "b is not greater than a\n"
          ]
        }
      ]
    },
    {
      "cell_type": "code",
      "metadata": {
        "id": "PZZlpY_eeqcw"
      },
      "source": [
        ""
      ],
      "execution_count": null,
      "outputs": []
    },
    {
      "cell_type": "code",
      "metadata": {
        "id": "o4F4eOJxKa6c"
      },
      "source": [
        "a = 33\n",
        "b = 20\n",
        "if b > a:\n",
        "  print(\"b is greater than a\")"
      ],
      "execution_count": null,
      "outputs": []
    },
    {
      "cell_type": "code",
      "metadata": {
        "colab": {
          "base_uri": "https://localhost:8080/"
        },
        "id": "Bqxph6_5KtOr",
        "outputId": "86617206-d841-4571-b64a-32c3a5120dda"
      },
      "source": [
        "a = 100\n",
        "b = 100\n",
        "if b > a:\n",
        "  print(\"b is greater than a\")\n",
        "elif a == b:\n",
        "  print(\"a and b are equal\")"
      ],
      "execution_count": null,
      "outputs": [
        {
          "output_type": "stream",
          "name": "stdout",
          "text": [
            "a and b are equal\n"
          ]
        }
      ]
    },
    {
      "cell_type": "code",
      "metadata": {
        "colab": {
          "base_uri": "https://localhost:8080/"
        },
        "id": "2zKSOIvbK6nL",
        "outputId": "5e04914f-70e1-4c23-8e74-6835711d2b5b"
      },
      "source": [
        "a = 200\n",
        "b = 33\n",
        "if b > a:\n",
        "  print(\"b is greater than a\")\n",
        "elif a == b:\n",
        "  print(\"a and b are equal\")\n",
        "else:\n",
        "  print(\"a is greater than b\")"
      ],
      "execution_count": null,
      "outputs": [
        {
          "output_type": "stream",
          "name": "stdout",
          "text": [
            "a is greater than b\n"
          ]
        }
      ]
    },
    {
      "cell_type": "code",
      "metadata": {
        "colab": {
          "base_uri": "https://localhost:8080/"
        },
        "id": "PR4SgafaLLSr",
        "outputId": "ff46aed3-cc64-4d36-b1c9-8feee488f4c4"
      },
      "source": [
        "a = 200\n",
        "b = 33\n",
        "if b > a:\n",
        "  print(\"b is greater than a\")\n",
        "else:\n",
        "  print(\"b is not greater than a\")"
      ],
      "execution_count": null,
      "outputs": [
        {
          "output_type": "stream",
          "name": "stdout",
          "text": [
            "b is not greater than a\n"
          ]
        }
      ]
    },
    {
      "cell_type": "markdown",
      "metadata": {
        "id": "-v0qr-ZVPkdo"
      },
      "source": [
        "# leap year\n",
        "\n",
        "https://en.wikipedia.org/wiki/Leap_year"
      ]
    },
    {
      "cell_type": "code",
      "metadata": {
        "colab": {
          "base_uri": "https://localhost:8080/"
        },
        "id": "8M7N8RJMP0r3",
        "outputId": "f48d4565-49b4-4b73-cfad-6440c9beb8f0"
      },
      "source": [
        "year= eval(input(\"Please input the year\"))\n",
        "\n",
        "if ((year%400==0) or (year%4==0 and year%100!=0)):\n",
        "  print(\"{0} is a leap year\".format(year))\n",
        "else:\n",
        "  print(\"{0} is not a leap year\".format(year))"
      ],
      "execution_count": null,
      "outputs": [
        {
          "output_type": "stream",
          "name": "stdout",
          "text": [
            "Please input the year204\n",
            "204 is a leap year\n"
          ]
        }
      ]
    },
    {
      "cell_type": "markdown",
      "metadata": {
        "id": "3Etdc-SWUNsU"
      },
      "source": [
        "## For loop\n",
        "\n",
        "https://www.w3schools.com/python/python_for_loops.asp"
      ]
    },
    {
      "cell_type": "code",
      "metadata": {
        "colab": {
          "base_uri": "https://localhost:8080/"
        },
        "id": "YRLQ3il3UfMb",
        "outputId": "35cc724d-bb05-4fec-c861-64f679e024ee"
      },
      "source": [
        "fruits = [\"apple\", \"banana\", \"cherry\"]\n",
        "for x in fruits:\n",
        "  print(x)"
      ],
      "execution_count": null,
      "outputs": [
        {
          "output_type": "stream",
          "name": "stdout",
          "text": [
            "apple\n",
            "banana\n",
            "cherry\n"
          ]
        }
      ]
    },
    {
      "cell_type": "code",
      "metadata": {
        "colab": {
          "base_uri": "https://localhost:8080/"
        },
        "id": "5v0uFId7UlTU",
        "outputId": "7951ff29-0b3d-4c55-bcef-c60d72909e75"
      },
      "source": [
        "for x in \"banana\":\n",
        "  print(x)"
      ],
      "execution_count": null,
      "outputs": [
        {
          "output_type": "stream",
          "name": "stdout",
          "text": [
            "b\n",
            "a\n",
            "n\n",
            "a\n",
            "n\n",
            "a\n"
          ]
        }
      ]
    },
    {
      "cell_type": "code",
      "metadata": {
        "colab": {
          "base_uri": "https://localhost:8080/"
        },
        "id": "8DtWYhsdUuvT",
        "outputId": "450099b5-b0d1-4e83-fcbe-1967af437469"
      },
      "source": [
        "for x in range(11):\n",
        "  print(x)"
      ],
      "execution_count": null,
      "outputs": [
        {
          "output_type": "stream",
          "name": "stdout",
          "text": [
            "0\n",
            "1\n",
            "2\n",
            "3\n",
            "4\n",
            "5\n",
            "6\n",
            "7\n",
            "8\n",
            "9\n",
            "10\n"
          ]
        }
      ]
    },
    {
      "cell_type": "code",
      "metadata": {
        "colab": {
          "base_uri": "https://localhost:8080/"
        },
        "id": "RkemF584VdmT",
        "outputId": "c98b70d1-4eb7-4ad3-bb82-b1fac9362c39"
      },
      "source": [
        "fruits = [\"apple\", \"banana\", \"cherry\"]\n",
        "for x in fruits:\n",
        "  print(x)\n",
        "  if x == \"apple\":\n",
        "    break"
      ],
      "execution_count": null,
      "outputs": [
        {
          "output_type": "stream",
          "name": "stdout",
          "text": [
            "apple\n",
            "banana\n"
          ]
        }
      ]
    },
    {
      "cell_type": "code",
      "metadata": {
        "colab": {
          "base_uri": "https://localhost:8080/"
        },
        "id": "kiBoi9uMV7kL",
        "outputId": "5b83275f-0902-4f95-bc37-5db177aa862c"
      },
      "source": [
        "for x in range(10):\n",
        "  print(x)\n",
        "  if x == 4:\n",
        "    break"
      ],
      "execution_count": null,
      "outputs": [
        {
          "output_type": "stream",
          "name": "stdout",
          "text": [
            "0\n",
            "1\n",
            "2\n",
            "3\n",
            "4\n"
          ]
        }
      ]
    },
    {
      "cell_type": "code",
      "metadata": {
        "colab": {
          "base_uri": "https://localhost:8080/"
        },
        "id": "tGLiFsToYrnQ",
        "outputId": "bfd091db-1fa8-4147-952e-88f294f4f1db"
      },
      "source": [
        "for x in range(10):\n",
        "    if x == 4:\n",
        "        continue\n",
        "    print(x)"
      ],
      "execution_count": null,
      "outputs": [
        {
          "output_type": "stream",
          "name": "stdout",
          "text": [
            "0\n",
            "1\n",
            "2\n",
            "3\n",
            "5\n",
            "6\n",
            "7\n",
            "8\n",
            "9\n"
          ]
        }
      ]
    },
    {
      "cell_type": "code",
      "metadata": {
        "colab": {
          "base_uri": "https://localhost:8080/"
        },
        "id": "YIp8JqIMXjYy",
        "outputId": "c5db5544-6dd5-428c-9802-99b3387aebc1"
      },
      "source": [
        "for x in range(12):\n",
        "  if x%5 == 0:\n",
        "   continue\n",
        "  \n",
        "  print(x)"
      ],
      "execution_count": null,
      "outputs": [
        {
          "output_type": "stream",
          "name": "stdout",
          "text": [
            "1\n",
            "2\n",
            "3\n",
            "4\n",
            "6\n",
            "7\n",
            "8\n",
            "9\n",
            "11\n"
          ]
        }
      ]
    }
  ]
}